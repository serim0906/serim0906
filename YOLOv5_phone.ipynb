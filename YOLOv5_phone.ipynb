{
  "cells": [
    {
      "cell_type": "markdown",
      "metadata": {
        "id": "view-in-github",
        "colab_type": "text"
      },
      "source": [
        "<a href=\"https://colab.research.google.com/github/serim0906/serim0906/blob/main/YOLOv5_phone.ipynb\" target=\"_parent\"><img src=\"https://colab.research.google.com/assets/colab-badge.svg\" alt=\"Open In Colab\"/></a>"
      ]
    },
    {
      "cell_type": "code",
      "execution_count": null,
      "metadata": {
        "id": "k2BTXZQmQRf5"
      },
      "outputs": [],
      "source": [
        "!git clone https://github.com/ultralytics/yolov5.git"
      ]
    },
    {
      "cell_type": "code",
      "execution_count": null,
      "metadata": {
        "id": "fr4mVAh3QdX-"
      },
      "outputs": [],
      "source": [
        "%cd yolov5\n",
        "!pip install -r requirements.txt"
      ]
    },
    {
      "cell_type": "code",
      "execution_count": null,
      "metadata": {
        "id": "2gsD_UJCQgY5"
      },
      "outputs": [],
      "source": [
        "!pip install roboflow"
      ]
    },
    {
      "cell_type": "code",
      "execution_count": null,
      "metadata": {
        "id": "ZK3stpamQyqt"
      },
      "outputs": [],
      "source": [
        "from roboflow import Roboflow\n",
        "rf = Roboflow(api_key=\"diDXt1HBi9z8bPTkdkeJ\")\n",
        "project = rf.workspace(\"objectdetection-lryar\").project(\"dataset-un2vt\")\n",
        "dataset = project.version(3).download(\"yolov5\")"
      ]
    },
    {
      "cell_type": "code",
      "execution_count": null,
      "metadata": {
        "id": "ArD13QT9TPPQ"
      },
      "outputs": [],
      "source": [
        "%cat /content/dataset/data.yaml"
      ]
    },
    {
      "cell_type": "code",
      "execution_count": null,
      "metadata": {
        "id": "4dU2UAADUei0"
      },
      "outputs": [],
      "source": [
        "%cd /\n",
        "from glob import glob\n",
        " \n",
        "# 이미지들의 주소 리스트로 만들어줌\n",
        "train_img_list = glob('/content/dataset/train/images/*.jpg')\n",
        "valid_img_list = glob('/content/dataset/valid/images/*.jpg')\n",
        "print(len(train_img_list))\n",
        "print(len(valid_img_list))"
      ]
    },
    {
      "cell_type": "code",
      "execution_count": null,
      "metadata": {
        "id": "RkIJKrKUdK56"
      },
      "outputs": [],
      "source": [
        "# train, valid image 경로를 txt 파일로 저장\n",
        "with open('/content/dataset/train.txt', 'w') as f:\n",
        "  f.write('\\n/'.join(train_img_list) + '\\n')\n",
        "\n",
        "with open('/content/dataset/valid.txt', 'w') as f:\n",
        "  f.write('\\n/'.join(valid_img_list) + '\\n')\n"
      ]
    },
    {
      "cell_type": "code",
      "execution_count": null,
      "metadata": {
        "id": "ijhxTqN0dtA7"
      },
      "outputs": [],
      "source": [
        "#yaml 파일 수정\n",
        "import yaml\n",
        "\n",
        "with open('/content/dataset/data.yaml', 'r') as f:\n",
        "  data = yaml.safe_load(f)\n",
        "\n",
        "print(data)\n",
        "\n",
        "data['train'] = '/content/dataset/train.txt'\n",
        "data['val'] = '/content/dataset/valid.txt'\n",
        "\n",
        "with open('/content/dataset/data.yaml', 'w') as f:\n",
        "  yaml.dump(data, f)\n",
        "\n",
        "print(data)"
      ]
    },
    {
      "cell_type": "code",
      "execution_count": null,
      "metadata": {
        "id": "1fqYXhApVzyz"
      },
      "outputs": [],
      "source": [
        "%cd /content/yolov5/\n",
        "\n",
        "# Train YOLOv5s on COCO128 for 100 epochs\n",
        "! python train.py --img 640 --batch 16 --epochs 100 --data /content/dataset/data.yaml --cfg ./models/yolov5s.yaml --weights yolov5s.pt --name phone_yolov5s_results"
      ]
    },
    {
      "cell_type": "code",
      "execution_count": null,
      "metadata": {
        "id": "j7fIfeXkZkFZ"
      },
      "outputs": [],
      "source": [
        "# tensorboard로 학습 결과 확인\n",
        "%load_ext tensorboard\n",
        "%tensorboard --logdir /content/yolov5/runs/"
      ]
    },
    {
      "cell_type": "code",
      "execution_count": null,
      "metadata": {
        "id": "PcXtcdljwNh2"
      },
      "outputs": [],
      "source": [
        "# 테스트 데이터로 추론하기 (Prediction)\n",
        "from IPython.display import Image\n",
        "import os\n",
        "\n",
        "val_img_path = valid_img_list[3]\n",
        "\n",
        "!python detect.py --weights /content/yolov5/runs/train/phone_yolov5s_results/weights/best.pt --img 416 --conf 0.5 --source \"{val_img_path}\""
      ]
    },
    {
      "cell_type": "code",
      "execution_count": null,
      "metadata": {
        "id": "HrqL1UIqh0D7"
      },
      "outputs": [],
      "source": [
        "# 영상 추론 \n",
        "%%time \n",
        "!python detect.py --weights /content/yolov5/runs/train/phone_yolov5s_results/weights/best.pt --img 416 --conf 0.5 --source '비디오 경로'"
      ]
    }
  ],
  "metadata": {
    "accelerator": "GPU",
    "colab": {
      "provenance": [],
      "mount_file_id": "1Mkf10zWwA1xrKG2m34_5f4gsSUUDgHFy",
      "authorship_tag": "ABX9TyOUoVqO7kRbwcIA9NPlR4U3",
      "include_colab_link": true
    },
    "gpuClass": "standard",
    "kernelspec": {
      "display_name": "Python 3",
      "name": "python3"
    },
    "language_info": {
      "name": "python"
    }
  },
  "nbformat": 4,
  "nbformat_minor": 0
}